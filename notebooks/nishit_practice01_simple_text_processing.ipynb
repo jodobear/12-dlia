{
  "nbformat": 4,
  "nbformat_minor": 0,
  "metadata": {
    "kernelspec": {
      "display_name": "Py3 research env",
      "language": "python",
      "name": "py3_research"
    },
    "language_info": {
      "codemirror_mode": {
        "name": "ipython",
        "version": 3
      },
      "file_extension": ".py",
      "mimetype": "text/x-python",
      "name": "python",
      "nbconvert_exporter": "python",
      "pygments_lexer": "ipython3",
      "version": "3.6.7"
    },
    "colab": {
      "name": "nishit-practice01_simple_text_processing.ipynb",
      "provenance": []
    },
    "accelerator": "GPU"
  },
  "cells": [
    {
      "cell_type": "markdown",
      "metadata": {
        "id": "jOY046WSPdjn",
        "colab_type": "text"
      },
      "source": [
        "## Practice 01. Simple text processing."
      ]
    },
    {
      "cell_type": "code",
      "metadata": {
        "id": "jM0bCwNgPdj3",
        "colab_type": "code",
        "colab": {}
      },
      "source": [
        "import numpy as np\n",
        "import matplotlib.pyplot as plt\n",
        "%matplotlib inline\n",
        "import pandas as pd\n",
        "from IPython import display"
      ],
      "execution_count": 1,
      "outputs": []
    },
    {
      "cell_type": "markdown",
      "metadata": {
        "id": "RAXr6bULPdkj",
        "colab_type": "text"
      },
      "source": [
        "### Toxic or not\n",
        "Our main goal in this assignment is to classify, whether the comments are toxic or not. And practice with both classical approaches and PyTorch in the process.\n",
        "\n",
        "*Credits: This homework is inspired by YSDA NLP_course.*"
      ]
    },
    {
      "cell_type": "code",
      "metadata": {
        "id": "tkn9kL0oPdkk",
        "colab_type": "code",
        "colab": {
          "base_uri": "https://localhost:8080/",
          "height": 224
        },
        "outputId": "2c4da824-8bdb-4262-e18e-f71b1920ce09"
      },
      "source": [
        "# In colab uncomment this cell\n",
        "! wget https://raw.githubusercontent.com/neychev/harbour_dlia2020/master/day01/utils.py -nc"
      ],
      "execution_count": 2,
      "outputs": [
        {
          "output_type": "stream",
          "text": [
            "--2020-06-22 15:23:52--  https://raw.githubusercontent.com/neychev/harbour_dlia2020/master/day01/utils.py\n",
            "Resolving raw.githubusercontent.com (raw.githubusercontent.com)... 151.101.0.133, 151.101.64.133, 151.101.128.133, ...\n",
            "Connecting to raw.githubusercontent.com (raw.githubusercontent.com)|151.101.0.133|:443... connected.\n",
            "HTTP request sent, awaiting response... 200 OK\n",
            "Length: 579 [text/plain]\n",
            "Saving to: ‘utils.py’\n",
            "\n",
            "\rutils.py              0%[                    ]       0  --.-KB/s               \rutils.py            100%[===================>]     579  --.-KB/s    in 0s      \n",
            "\n",
            "2020-06-22 15:23:53 (32.3 MB/s) - ‘utils.py’ saved [579/579]\n",
            "\n"
          ],
          "name": "stdout"
        }
      ]
    },
    {
      "cell_type": "code",
      "metadata": {
        "id": "PUngpk1sPdlN",
        "colab_type": "code",
        "colab": {
          "base_uri": "https://localhost:8080/",
          "height": 224
        },
        "outputId": "ed79ceb3-85b9-4fe6-8957-ede7d02e52c1"
      },
      "source": [
        "try:\n",
        "    data = pd.read_csv('../datasets/comments_small_dataset/comments.tsv', sep='\\t')\n",
        "except FileNotFoundError:\n",
        "    ! wget https://raw.githubusercontent.com/neychev/harbour_dlia2020/master/datasets/comments_small_dataset/comments.tsv -nc\n",
        "    data = pd.read_csv(\"comments.tsv\", sep='\\t')"
      ],
      "execution_count": 3,
      "outputs": [
        {
          "output_type": "stream",
          "text": [
            "--2020-06-22 15:23:55--  https://raw.githubusercontent.com/neychev/harbour_dlia2020/master/datasets/comments_small_dataset/comments.tsv\n",
            "Resolving raw.githubusercontent.com (raw.githubusercontent.com)... 151.101.0.133, 151.101.64.133, 151.101.128.133, ...\n",
            "Connecting to raw.githubusercontent.com (raw.githubusercontent.com)|151.101.0.133|:443... connected.\n",
            "HTTP request sent, awaiting response... 200 OK\n",
            "Length: 353358 (345K) [text/plain]\n",
            "Saving to: ‘comments.tsv’\n",
            "\n",
            "\rcomments.tsv          0%[                    ]       0  --.-KB/s               \rcomments.tsv        100%[===================>] 345.08K  --.-KB/s    in 0.03s   \n",
            "\n",
            "2020-06-22 15:23:56 (12.7 MB/s) - ‘comments.tsv’ saved [353358/353358]\n",
            "\n"
          ],
          "name": "stdout"
        }
      ]
    },
    {
      "cell_type": "code",
      "metadata": {
        "id": "SCojYSRiPdl3",
        "colab_type": "code",
        "colab": {
          "base_uri": "https://localhost:8080/",
          "height": 204
        },
        "outputId": "2fb04924-f60a-4347-d36e-6e9f865a2832"
      },
      "source": [
        "texts = data['comment_text'].values\n",
        "target = data['should_ban'].values\n",
        "data[50::200]"
      ],
      "execution_count": 4,
      "outputs": [
        {
          "output_type": "execute_result",
          "data": {
            "text/html": [
              "<div>\n",
              "<style scoped>\n",
              "    .dataframe tbody tr th:only-of-type {\n",
              "        vertical-align: middle;\n",
              "    }\n",
              "\n",
              "    .dataframe tbody tr th {\n",
              "        vertical-align: top;\n",
              "    }\n",
              "\n",
              "    .dataframe thead th {\n",
              "        text-align: right;\n",
              "    }\n",
              "</style>\n",
              "<table border=\"1\" class=\"dataframe\">\n",
              "  <thead>\n",
              "    <tr style=\"text-align: right;\">\n",
              "      <th></th>\n",
              "      <th>should_ban</th>\n",
              "      <th>comment_text</th>\n",
              "    </tr>\n",
              "  </thead>\n",
              "  <tbody>\n",
              "    <tr>\n",
              "      <th>50</th>\n",
              "      <td>0</td>\n",
              "      <td>\"Those who're in advantageous positions are th...</td>\n",
              "    </tr>\n",
              "    <tr>\n",
              "      <th>250</th>\n",
              "      <td>1</td>\n",
              "      <td>Fartsalot56 says f**k you motherclucker!!</td>\n",
              "    </tr>\n",
              "    <tr>\n",
              "      <th>450</th>\n",
              "      <td>1</td>\n",
              "      <td>Are you a fool? \\n\\nI am sorry, but you seem t...</td>\n",
              "    </tr>\n",
              "    <tr>\n",
              "      <th>650</th>\n",
              "      <td>1</td>\n",
              "      <td>I AM NOT A VANDAL!!!!!!!!!!!!!!!!!!!!!!!!!!!!!!</td>\n",
              "    </tr>\n",
              "    <tr>\n",
              "      <th>850</th>\n",
              "      <td>0</td>\n",
              "      <td>Citing sources\\n\\nCheck out the Wikipedia:Citi...</td>\n",
              "    </tr>\n",
              "  </tbody>\n",
              "</table>\n",
              "</div>"
            ],
            "text/plain": [
              "     should_ban                                       comment_text\n",
              "50            0  \"Those who're in advantageous positions are th...\n",
              "250           1          Fartsalot56 says f**k you motherclucker!!\n",
              "450           1  Are you a fool? \\n\\nI am sorry, but you seem t...\n",
              "650           1    I AM NOT A VANDAL!!!!!!!!!!!!!!!!!!!!!!!!!!!!!!\n",
              "850           0  Citing sources\\n\\nCheck out the Wikipedia:Citi..."
            ]
          },
          "metadata": {
            "tags": []
          },
          "execution_count": 4
        }
      ]
    },
    {
      "cell_type": "code",
      "metadata": {
        "id": "SH1FIAOzPdnT",
        "colab_type": "code",
        "colab": {}
      },
      "source": [
        "from sklearn.model_selection import train_test_split\n",
        "texts_train, texts_test, y_train, y_test = train_test_split(texts, target, test_size=0.5, random_state=42)"
      ],
      "execution_count": 5,
      "outputs": []
    },
    {
      "cell_type": "markdown",
      "metadata": {
        "id": "9lqPRwVKPdnZ",
        "colab_type": "text"
      },
      "source": [
        "__Note:__ it is generally a good idea to split data into train/test before anything is done to them.\n",
        "\n",
        "It guards you against possible data leakage in the preprocessing stage. For example, should you decide to select words present in obscene tweets as features, you should only count those words over the training set. Otherwise your algoritm can cheat evaluation."
      ]
    },
    {
      "cell_type": "markdown",
      "metadata": {
        "id": "LBKk-3_nPdna",
        "colab_type": "text"
      },
      "source": [
        "### Preprocessing and tokenization\n",
        "\n",
        "Comments contain raw text with punctuation, upper/lowercase letters and even newline symbols.\n",
        "\n",
        "To simplify all further steps, we'll split text into space-separated tokens using one of nltk tokenizers.\n",
        "\n",
        "Generally, library `nltk` [link](https://www.nltk.org) is widely used in NLP. It is not necessary in here, but mentioned to intoduce it to you."
      ]
    },
    {
      "cell_type": "code",
      "metadata": {
        "id": "2_Y9GJJXPdnb",
        "colab_type": "code",
        "colab": {
          "base_uri": "https://localhost:8080/",
          "height": 51
        },
        "outputId": "f621b866-6401-4507-cca6-8a404ccc32c1"
      },
      "source": [
        "from nltk.tokenize import TweetTokenizer\n",
        "tokenizer = TweetTokenizer()\n",
        "preprocess = lambda text: ' '.join(tokenizer.tokenize(text.lower()))\n",
        "\n",
        "text = 'How to be a grown-up at work: replace \"I don\\'t want to do that\" with \"Ok, great!\".'\n",
        "print(\"before:\", text,)\n",
        "print(\"after:\", preprocess(text),)"
      ],
      "execution_count": 6,
      "outputs": [
        {
          "output_type": "stream",
          "text": [
            "before: How to be a grown-up at work: replace \"I don't want to do that\" with \"Ok, great!\".\n",
            "after: how to be a grown-up at work : replace \" i don't want to do that \" with \" ok , great ! \" .\n"
          ],
          "name": "stdout"
        }
      ]
    },
    {
      "cell_type": "code",
      "metadata": {
        "id": "BHHiZJKlPdng",
        "colab_type": "code",
        "colab": {}
      },
      "source": [
        "line = 'Citing sources\\n\\nCheck out the Wikipedia:Citi...'"
      ],
      "execution_count": 7,
      "outputs": []
    },
    {
      "cell_type": "code",
      "metadata": {
        "id": "6wgQRLg9Pdnm",
        "colab_type": "code",
        "colab": {
          "base_uri": "https://localhost:8080/",
          "height": 34
        },
        "outputId": "6f173092-1b0a-4ce7-b082-9da27561594b"
      },
      "source": [
        "TweetTokenizer()"
      ],
      "execution_count": 8,
      "outputs": [
        {
          "output_type": "execute_result",
          "data": {
            "text/plain": [
              "<nltk.tokenize.casual.TweetTokenizer at 0x7fdf0ac77710>"
            ]
          },
          "metadata": {
            "tags": []
          },
          "execution_count": 8
        }
      ]
    },
    {
      "cell_type": "code",
      "metadata": {
        "id": "GdTBHxvSPdnr",
        "colab_type": "code",
        "colab": {
          "base_uri": "https://localhost:8080/",
          "height": 34
        },
        "outputId": "3b06dd6a-d294-421a-d7d4-b8d7843fd7f6"
      },
      "source": [
        "' '.join(tokenizer.tokenize(line.lower()))"
      ],
      "execution_count": 9,
      "outputs": [
        {
          "output_type": "execute_result",
          "data": {
            "text/plain": [
              "'citing sources check out the wikipedia : citi ...'"
            ]
          },
          "metadata": {
            "tags": []
          },
          "execution_count": 9
        }
      ]
    },
    {
      "cell_type": "code",
      "metadata": {
        "id": "uIyEodgDPdnv",
        "colab_type": "code",
        "colab": {
          "base_uri": "https://localhost:8080/",
          "height": 34
        },
        "outputId": "a32bf9db-36b2-40fc-f11f-0cebc6f6dae0"
      },
      "source": [
        "texts_train[0]"
      ],
      "execution_count": 10,
      "outputs": [
        {
          "output_type": "execute_result",
          "data": {
            "text/plain": [
              "'... oh and what kind of person WATCHES another persons mytalk page? Stalker!'"
            ]
          },
          "metadata": {
            "tags": []
          },
          "execution_count": 10
        }
      ]
    },
    {
      "cell_type": "code",
      "metadata": {
        "id": "giusywT7Pdnz",
        "colab_type": "code",
        "colab": {}
      },
      "source": [
        "# task: preprocess each comment in train and test\n",
        "\n",
        "texts_train = np.array(list(map(preprocess, texts_train))) #<YOUR CODE>\n",
        "texts_test = np.array(list(map(preprocess, texts_test))) #<YOUR CODE>"
      ],
      "execution_count": 11,
      "outputs": []
    },
    {
      "cell_type": "code",
      "metadata": {
        "id": "yh5nqEJHPdn3",
        "colab_type": "code",
        "colab": {}
      },
      "source": [
        "# Small check that everything is done properly\n",
        "assert texts_train[5] ==  'who cares anymore . they attack with impunity .'\n",
        "assert texts_test[89] == 'hey todds ! quick q ? why are you so gay'\n",
        "assert len(texts_test) == len(y_test)"
      ],
      "execution_count": 12,
      "outputs": []
    },
    {
      "cell_type": "code",
      "metadata": {
        "id": "rLPbczKCPdn7",
        "colab_type": "code",
        "colab": {
          "base_uri": "https://localhost:8080/",
          "height": 34
        },
        "outputId": "771fc5cc-1392-4971-b447-8e52bc67e2fb"
      },
      "source": [
        "texts_train[0]"
      ],
      "execution_count": 13,
      "outputs": [
        {
          "output_type": "execute_result",
          "data": {
            "text/plain": [
              "'... oh and what kind of person watches another persons mytalk page ? stalker !'"
            ]
          },
          "metadata": {
            "tags": []
          },
          "execution_count": 13
        }
      ]
    },
    {
      "cell_type": "markdown",
      "metadata": {
        "id": "d4Ny7PE8Pdn-",
        "colab_type": "text"
      },
      "source": [
        "### Step 1: bag of words\n",
        "\n",
        "One traditional approach to such problem is to use bag of words features:\n",
        "1. build a vocabulary of frequent words (use train data only)\n",
        "2. for each training sample, count the number of times a word occurs in it (for each word in vocabulary).\n",
        "3. consider this count a feature for some classifier\n",
        "\n",
        "__Note:__ in practice, you can compute such features using sklearn. __Please don't do that in the current assignment, though.__\n",
        "* `from sklearn.feature_extraction.text import CountVectorizer, TfidfVectorizer`"
      ]
    },
    {
      "cell_type": "code",
      "metadata": {
        "id": "hirH0UZ-Pdn_",
        "colab_type": "code",
        "colab": {
          "base_uri": "https://localhost:8080/",
          "height": 0
        },
        "outputId": "5d793e6e-4093-4146-ca44-a8b56e5c7cd2"
      },
      "source": [
        "# task: find up to k most frequent tokens in texts_train,\n",
        "# sort them by number of occurences (highest first)\n",
        "k = min(10000, len(set(' '.join(texts_train).split())))\n",
        "\n",
        "all_texts = np.array(' '.join(texts_train).split())\n",
        "\n",
        "#<YOUR CODE>\n",
        "\n",
        "bow_vocabulary = list(set(' '.join(texts_train).split()))#<YOUR CODE>\n",
        "\n",
        "print('example features:', sorted(bow_vocabulary)[::100])"
      ],
      "execution_count": 14,
      "outputs": [
        {
          "output_type": "stream",
          "text": [
            "example features: ['!', '12:20', '300', '_', 'adorned', 'alternative', 'archive', 'average', 'benkner', 'bout', 'came', 'chest', 'combined', 'consumers', 'cricket', 'decisions', 'dickheads', 'domestic', 'eductaion', 'essentially', 'faggot', 'firms', 'frustrated', 'goal', 'hanibal', 'hip-hop', 'identified', 'infoboxes', 'issue', 'kindergarten', 'lets', 'lot', \"mclaren's\", 'moderator', 'naturally', 'noticeable', 'opposing', 'pdf', 'plant', 'pretoria', 'punctuation', 'rebels', 'repetative', 'riadh', 'schulz', 'shes', 'slit', 'spoof', 'stupid', 't', 'theoretical', 'topic', 'uglyness', 'userspace', 'wanted', 'wikieditor', 'year', 'ீ']\n"
          ],
          "name": "stdout"
        }
      ]
    },
    {
      "cell_type": "code",
      "metadata": {
        "id": "HYiiM_FtPdoC",
        "colab_type": "code",
        "colab": {
          "base_uri": "https://localhost:8080/",
          "height": 0
        },
        "outputId": "60fd0b66-5971-4078-ac38-cdc6cee08bdc"
      },
      "source": [
        "len(bow_vocabulary)"
      ],
      "execution_count": 15,
      "outputs": [
        {
          "output_type": "execute_result",
          "data": {
            "text/plain": [
              "5722"
            ]
          },
          "metadata": {
            "tags": []
          },
          "execution_count": 15
        }
      ]
    },
    {
      "cell_type": "code",
      "metadata": {
        "id": "4ER8hKctPdoG",
        "colab_type": "code",
        "colab": {}
      },
      "source": [
        "word_to_idx = {word: idx for idx, word in enumerate(bow_vocabulary)}"
      ],
      "execution_count": 16,
      "outputs": []
    },
    {
      "cell_type": "code",
      "metadata": {
        "id": "olIu5-ZAPdoJ",
        "colab_type": "code",
        "colab": {}
      },
      "source": [
        "VOCAB_SIZE = len(bow_vocabulary)"
      ],
      "execution_count": 17,
      "outputs": []
    },
    {
      "cell_type": "code",
      "metadata": {
        "id": "KgQuwy1HPdoM",
        "colab_type": "code",
        "colab": {}
      },
      "source": [
        "bow_vector = np.zeros(VOCAB_SIZE, dtype=float)"
      ],
      "execution_count": 18,
      "outputs": []
    },
    {
      "cell_type": "code",
      "metadata": {
        "id": "hwm7IOMzPdoP",
        "colab_type": "code",
        "colab": {
          "base_uri": "https://localhost:8080/",
          "height": 0
        },
        "outputId": "1157a523-5380-4c10-b65e-386cfb50b88d"
      },
      "source": [
        "isinstance(texts_train[0], str)"
      ],
      "execution_count": 19,
      "outputs": [
        {
          "output_type": "execute_result",
          "data": {
            "text/plain": [
              "True"
            ]
          },
          "metadata": {
            "tags": []
          },
          "execution_count": 19
        }
      ]
    },
    {
      "cell_type": "code",
      "metadata": {
        "id": "i6f6Rum2PdoS",
        "colab_type": "code",
        "colab": {
          "base_uri": "https://localhost:8080/",
          "height": 0
        },
        "outputId": "9a3f7924-5c33-4c15-8689-7b95ac92fe07"
      },
      "source": [
        "word_to_idx.get('bag', 0)"
      ],
      "execution_count": 20,
      "outputs": [
        {
          "output_type": "execute_result",
          "data": {
            "text/plain": [
              "5354"
            ]
          },
          "metadata": {
            "tags": []
          },
          "execution_count": 20
        }
      ]
    },
    {
      "cell_type": "code",
      "metadata": {
        "id": "yO9F2b_tPdoV",
        "colab_type": "code",
        "colab": {}
      },
      "source": [
        "def text_to_bow(text):\n",
        "    \"\"\" convert text string to an array of token counts. Use bow_vocabulary. \"\"\"\n",
        "    #<YOUR CODE>\n",
        "    global VOCAB_SIZE, word_to_idx\n",
        "    bow_vector = np.zeros(VOCAB_SIZE, dtype=float)\n",
        "    \n",
        "    if isinstance(text, str):\n",
        "        text = text.split(' ')\n",
        "    \n",
        "    for word in text:\n",
        "        word_idx = word_to_idx.get(word, -1)\n",
        "        if word_idx >= 0:\n",
        "            bow_vector[word_idx] += 1.\n",
        "        \n",
        "    \n",
        "\n",
        "    return np.array(bow_vector>0, dtype=float) #np.array(<...>, 'float32')\n"
      ],
      "execution_count": 21,
      "outputs": []
    },
    {
      "cell_type": "code",
      "metadata": {
        "id": "BWXX18gLPdoY",
        "colab_type": "code",
        "colab": {
          "base_uri": "https://localhost:8080/",
          "height": 0
        },
        "outputId": "f72e23ee-bb28-4b04-b2f9-1a1d5cfa0e7f"
      },
      "source": [
        "X_train_bow = np.stack(list(map(text_to_bow, texts_train)))\n",
        "X_test_bow = np.stack(list(map(text_to_bow, texts_test)))\n",
        "X_train_bow[0]"
      ],
      "execution_count": 22,
      "outputs": [
        {
          "output_type": "execute_result",
          "data": {
            "text/plain": [
              "array([0., 0., 0., ..., 0., 0., 0.])"
            ]
          },
          "metadata": {
            "tags": []
          },
          "execution_count": 22
        }
      ]
    },
    {
      "cell_type": "code",
      "metadata": {
        "id": "bM_qxCASPdoa",
        "colab_type": "code",
        "colab": {
          "base_uri": "https://localhost:8080/",
          "height": 0
        },
        "outputId": "f3d3a1f5-d242-4bb2-f774-ed473677f484"
      },
      "source": [
        "len(texts_train[6].split(' '))"
      ],
      "execution_count": 23,
      "outputs": [
        {
          "output_type": "execute_result",
          "data": {
            "text/plain": [
              "202"
            ]
          },
          "metadata": {
            "tags": []
          },
          "execution_count": 23
        }
      ]
    },
    {
      "cell_type": "code",
      "metadata": {
        "id": "ziL53yV3Pdoe",
        "colab_type": "code",
        "colab": {
          "base_uri": "https://localhost:8080/",
          "height": 0
        },
        "outputId": "cf249414-368c-4c79-fc96-09e800b25f30"
      },
      "source": [
        "texts_train[0]"
      ],
      "execution_count": 24,
      "outputs": [
        {
          "output_type": "execute_result",
          "data": {
            "text/plain": [
              "'... oh and what kind of person watches another persons mytalk page ? stalker !'"
            ]
          },
          "metadata": {
            "tags": []
          },
          "execution_count": 24
        }
      ]
    },
    {
      "cell_type": "code",
      "metadata": {
        "id": "gxIoTMckPdoh",
        "colab_type": "code",
        "colab": {
          "base_uri": "https://localhost:8080/",
          "height": 0
        },
        "outputId": "0e32b8c1-59c3-4dc9-df7b-f8a66e73b483"
      },
      "source": [
        "X_train_bow[6].sum()"
      ],
      "execution_count": 25,
      "outputs": [
        {
          "output_type": "execute_result",
          "data": {
            "text/plain": [
              "115.0"
            ]
          },
          "metadata": {
            "tags": []
          },
          "execution_count": 25
        }
      ]
    },
    {
      "cell_type": "code",
      "metadata": {
        "id": "pHxNUtxNPdoj",
        "colab_type": "code",
        "colab": {}
      },
      "source": [
        "# # Small check that everything is done properly\n",
        "# k_max = len(set(' '.join(texts_train).split()))\n",
        "# assert X_train_bow.shape == (len(texts_train), min(k, k_max))\n",
        "# assert X_test_bow.shape == (len(texts_test), min(k, k_max))\n",
        "# assert np.all(X_train_bow[5:10].sum(-1) == np.array([len(s.split()) for s in  texts_train[5:10]]))\n",
        "# assert len(bow_vocabulary) <= min(k, k_max)\n",
        "# assert X_train_bow[6, bow_vocabulary.index('.')] == texts_train[6].split().count('.')"
      ],
      "execution_count": 26,
      "outputs": []
    },
    {
      "cell_type": "markdown",
      "metadata": {
        "id": "eGfZCuUpPdom",
        "colab_type": "text"
      },
      "source": [
        "Now let's do the trick with `sklearn` logistic regression implementation:"
      ]
    },
    {
      "cell_type": "code",
      "metadata": {
        "id": "nI5cL-4wPdom",
        "colab_type": "code",
        "colab": {
          "base_uri": "https://localhost:8080/",
          "height": 0
        },
        "outputId": "92b1739f-1811-4dea-d3f3-e2d466b50c95"
      },
      "source": [
        "from sklearn.linear_model import LogisticRegression\n",
        "bow_model = LogisticRegression()#<YOUR CODE>\n",
        "\n",
        "bow_model.fit(X_train_bow, y_train)"
      ],
      "execution_count": 27,
      "outputs": [
        {
          "output_type": "execute_result",
          "data": {
            "text/plain": [
              "LogisticRegression(C=1.0, class_weight=None, dual=False, fit_intercept=True,\n",
              "                   intercept_scaling=1, l1_ratio=None, max_iter=100,\n",
              "                   multi_class='auto', n_jobs=None, penalty='l2',\n",
              "                   random_state=None, solver='lbfgs', tol=0.0001, verbose=0,\n",
              "                   warm_start=False)"
            ]
          },
          "metadata": {
            "tags": []
          },
          "execution_count": 27
        }
      ]
    },
    {
      "cell_type": "code",
      "metadata": {
        "id": "oz0nij7IPdop",
        "colab_type": "code",
        "colab": {
          "base_uri": "https://localhost:8080/",
          "height": 0
        },
        "outputId": "3ccce072-9a1c-4cf3-ed20-6e68631cfc44"
      },
      "source": [
        "from sklearn.metrics import roc_auc_score, roc_curve\n",
        "\n",
        "for name, X, y, model in [\n",
        "    ('train', X_train_bow, y_train, bow_model),\n",
        "    ('test ', X_test_bow, y_test, bow_model)\n",
        "]:\n",
        "    proba = model.predict_proba(X)[:, 1]\n",
        "    auc = roc_auc_score(y, proba)\n",
        "    plt.plot(*roc_curve(y, proba)[:2], label='%s AUC=%.4f' % (name, auc))\n",
        "\n",
        "plt.plot([0, 1], [0, 1], '--', color='black',)\n",
        "plt.legend(fontsize='large')\n",
        "plt.grid()"
      ],
      "execution_count": 28,
      "outputs": [
        {
          "output_type": "display_data",
          "data": {
            "image/png": "[encoded data removed]",
            "text/plain": [
              "<Figure size 432x288 with 1 Axes>"
            ]
          },
          "metadata": {
            "tags": [],
            "needs_background": "light"
          }
        }
      ]
    },
    {
      "cell_type": "code",
      "metadata": {
        "id": "r5w_XzFsPdor",
        "colab_type": "code",
        "colab": {
          "base_uri": "https://localhost:8080/",
          "height": 0
        },
        "outputId": "ee992882-d1e5-4495-e2b3-47e024256e3c"
      },
      "source": [
        "from sklearn.metrics import roc_auc_score, roc_curve\n",
        "\n",
        "for name, X, y, model in [\n",
        "    ('train', X_train_bow, y_train, bow_model),\n",
        "    ('test ', X_test_bow, y_test, bow_model)\n",
        "]:\n",
        "    proba = model.predict_proba(X)[:, 1]\n",
        "    auc = roc_auc_score(y, proba)\n",
        "    plt.plot(*roc_curve(y, proba)[:2], label='%s AUC=%.4f' % (name, auc))\n",
        "\n",
        "plt.plot([0, 1], [0, 1], '--', color='black',)\n",
        "plt.legend(fontsize='large')\n",
        "plt.title('With only word presence flags')\n",
        "plt.grid()"
      ],
      "execution_count": 29,
      "outputs": [
        {
          "output_type": "display_data",
          "data": {
            "image/png": "[encoded data removed]",
            "text/plain": [
              "<Figure size 432x288 with 1 Axes>"
            ]
          },
          "metadata": {
            "tags": [],
            "needs_background": "light"
          }
        }
      ]
    },
    {
      "cell_type": "markdown",
      "metadata": {
        "id": "EvM7a7g-Pdou",
        "colab_type": "text"
      },
      "source": [
        "Seems alright. Now let's create the simple logistic regression using PyTorch. Just like in the classwork."
      ]
    },
    {
      "cell_type": "code",
      "metadata": {
        "id": "eEnGN54dPdov",
        "colab_type": "code",
        "colab": {}
      },
      "source": [
        "import torch\n",
        "from torch import nn\n",
        "from torch.nn import functional as F\n",
        "from torch.optim.lr_scheduler import StepLR, ReduceLROnPlateau\n",
        "\n",
        "from sklearn.metrics import accuracy_score"
      ],
      "execution_count": 30,
      "outputs": []
    },
    {
      "cell_type": "code",
      "metadata": {
        "id": "uRrRXbyTPdox",
        "colab_type": "code",
        "colab": {}
      },
      "source": [
        "from utils import plot_train_process"
      ],
      "execution_count": 31,
      "outputs": []
    },
    {
      "cell_type": "code",
      "metadata": {
        "id": "dh-obVSyPdoz",
        "colab_type": "code",
        "colab": {
          "base_uri": "https://localhost:8080/",
          "height": 0
        },
        "outputId": "e531e8eb-e0ef-4bc6-90d8-bb71c752ac78"
      },
      "source": [
        "VOCAB_SIZE"
      ],
      "execution_count": 32,
      "outputs": [
        {
          "output_type": "execute_result",
          "data": {
            "text/plain": [
              "5722"
            ]
          },
          "metadata": {
            "tags": []
          },
          "execution_count": 32
        }
      ]
    },
    {
      "cell_type": "code",
      "metadata": {
        "id": "7BHDkwncPdo1",
        "colab_type": "code",
        "colab": {
          "base_uri": "https://localhost:8080/",
          "height": 0
        },
        "outputId": "1c99898d-2e51-4fe7-8c99-298f90fa4ee4"
      },
      "source": [
        "set(y_train)"
      ],
      "execution_count": 33,
      "outputs": [
        {
          "output_type": "execute_result",
          "data": {
            "text/plain": [
              "{0, 1}"
            ]
          },
          "metadata": {
            "tags": []
          },
          "execution_count": 33
        }
      ]
    },
    {
      "cell_type": "markdown",
      "metadata": {
        "id": "j0GhLLYiPdo4",
        "colab_type": "text"
      },
      "source": [
        "### Extra: looking at softmax\n",
        "And why applying softmax to softmax is a bad idea."
      ]
    },
    {
      "cell_type": "code",
      "metadata": {
        "id": "TC7BVz5aPdo4",
        "colab_type": "code",
        "colab": {}
      },
      "source": [
        "a = np.array([2., 7., 4., 1., 8.])"
      ],
      "execution_count": 34,
      "outputs": []
    },
    {
      "cell_type": "code",
      "metadata": {
        "id": "ZGOoak7rPdo6",
        "colab_type": "code",
        "colab": {
          "base_uri": "https://localhost:8080/",
          "height": 0
        },
        "outputId": "04c3a4e2-f04c-42f5-b168-0e24a3e550a3"
      },
      "source": [
        "plt.bar(np.arange(5), a)"
      ],
      "execution_count": 35,
      "outputs": [
        {
          "output_type": "execute_result",
          "data": {
            "text/plain": [
              "<BarContainer object of 5 artists>"
            ]
          },
          "metadata": {
            "tags": []
          },
          "execution_count": 35
        },
        {
          "output_type": "display_data",
          "data": {
            "image/png": "[encoded data removed]",
            "text/plain": [
              "<Figure size 432x288 with 1 Axes>"
            ]
          },
          "metadata": {
            "tags": [],
            "needs_background": "light"
          }
        }
      ]
    },
    {
      "cell_type": "code",
      "metadata": {
        "id": "EbiPgz0fPdo9",
        "colab_type": "code",
        "colab": {}
      },
      "source": [
        "a_t = torch.from_numpy(a)"
      ],
      "execution_count": 36,
      "outputs": []
    },
    {
      "cell_type": "code",
      "metadata": {
        "id": "mAoGOUBIPdo_",
        "colab_type": "code",
        "colab": {
          "base_uri": "https://localhost:8080/",
          "height": 0
        },
        "outputId": "2b14ab84-857f-4874-f636-95e8795aabd5"
      },
      "source": [
        "plt.bar(np.arange(5), F.sigmoid(a_t).numpy())"
      ],
      "execution_count": 37,
      "outputs": [
        {
          "output_type": "stream",
          "text": [
            "/usr/local/lib/python3.6/dist-packages/torch/nn/functional.py:1569: UserWarning: nn.functional.sigmoid is deprecated. Use torch.sigmoid instead.\n",
            "  warnings.warn(\"nn.functional.sigmoid is deprecated. Use torch.sigmoid instead.\")\n"
          ],
          "name": "stderr"
        },
        {
          "output_type": "execute_result",
          "data": {
            "text/plain": [
              "<BarContainer object of 5 artists>"
            ]
          },
          "metadata": {
            "tags": []
          },
          "execution_count": 37
        },
        {
          "output_type": "display_data",
          "data": {
            "image/png": "[encoded data removed]",
            "text/plain": [
              "<Figure size 432x288 with 1 Axes>"
            ]
          },
          "metadata": {
            "tags": [],
            "needs_background": "light"
          }
        }
      ]
    },
    {
      "cell_type": "code",
      "metadata": {
        "id": "Zhw2JH0gPdpC",
        "colab_type": "code",
        "colab": {
          "base_uri": "https://localhost:8080/",
          "height": 0
        },
        "outputId": "93754ae3-7905-4d93-f171-e97752cad7fa"
      },
      "source": [
        "F.softmax(a_t).numpy().sum()"
      ],
      "execution_count": 38,
      "outputs": [
        {
          "output_type": "stream",
          "text": [
            "/usr/local/lib/python3.6/dist-packages/ipykernel_launcher.py:1: UserWarning: Implicit dimension choice for softmax has been deprecated. Change the call to include dim=X as an argument.\n",
            "  \"\"\"Entry point for launching an IPython kernel.\n"
          ],
          "name": "stderr"
        },
        {
          "output_type": "execute_result",
          "data": {
            "text/plain": [
              "1.0"
            ]
          },
          "metadata": {
            "tags": []
          },
          "execution_count": 38
        }
      ]
    },
    {
      "cell_type": "code",
      "metadata": {
        "id": "4IlvaY_8PdpE",
        "colab_type": "code",
        "colab": {
          "base_uri": "https://localhost:8080/",
          "height": 0
        },
        "outputId": "5f6fcb2a-a92b-4401-d834-7bfd0b71023d"
      },
      "source": [
        "sm_1 = F.softmax(a_t)"
      ],
      "execution_count": 39,
      "outputs": [
        {
          "output_type": "stream",
          "text": [
            "/usr/local/lib/python3.6/dist-packages/ipykernel_launcher.py:1: UserWarning: Implicit dimension choice for softmax has been deprecated. Change the call to include dim=X as an argument.\n",
            "  \"\"\"Entry point for launching an IPython kernel.\n"
          ],
          "name": "stderr"
        }
      ]
    },
    {
      "cell_type": "code",
      "metadata": {
        "id": "vmMaeC5hPdpH",
        "colab_type": "code",
        "colab": {
          "base_uri": "https://localhost:8080/",
          "height": 0
        },
        "outputId": "f95d43e1-560f-469c-a020-2dcb633219ea"
      },
      "source": [
        "sm_2 = F.softmax(sm_1)"
      ],
      "execution_count": 40,
      "outputs": [
        {
          "output_type": "stream",
          "text": [
            "/usr/local/lib/python3.6/dist-packages/ipykernel_launcher.py:1: UserWarning: Implicit dimension choice for softmax has been deprecated. Change the call to include dim=X as an argument.\n",
            "  \"\"\"Entry point for launching an IPython kernel.\n"
          ],
          "name": "stderr"
        }
      ]
    },
    {
      "cell_type": "code",
      "metadata": {
        "id": "mCwLSpkmPdpL",
        "colab_type": "code",
        "colab": {
          "base_uri": "https://localhost:8080/",
          "height": 0
        },
        "outputId": "e87b3ae0-35b9-4a06-9190-9c49113a4002"
      },
      "source": [
        "sm_3 = F.softmax(sm_2)"
      ],
      "execution_count": 41,
      "outputs": [
        {
          "output_type": "stream",
          "text": [
            "/usr/local/lib/python3.6/dist-packages/ipykernel_launcher.py:1: UserWarning: Implicit dimension choice for softmax has been deprecated. Change the call to include dim=X as an argument.\n",
            "  \"\"\"Entry point for launching an IPython kernel.\n"
          ],
          "name": "stderr"
        }
      ]
    },
    {
      "cell_type": "code",
      "metadata": {
        "id": "lsgkAZPKPdpO",
        "colab_type": "code",
        "colab": {
          "base_uri": "https://localhost:8080/",
          "height": 0
        },
        "outputId": "8b0aa78f-4753-45b4-e063-a26b2e0f56b5"
      },
      "source": [
        "plt.bar(np.arange(5), F.softmax(a_t).numpy())"
      ],
      "execution_count": 42,
      "outputs": [
        {
          "output_type": "stream",
          "text": [
            "/usr/local/lib/python3.6/dist-packages/ipykernel_launcher.py:1: UserWarning: Implicit dimension choice for softmax has been deprecated. Change the call to include dim=X as an argument.\n",
            "  \"\"\"Entry point for launching an IPython kernel.\n"
          ],
          "name": "stderr"
        },
        {
          "output_type": "execute_result",
          "data": {
            "text/plain": [
              "<BarContainer object of 5 artists>"
            ]
          },
          "metadata": {
            "tags": []
          },
          "execution_count": 42
        },
        {
          "output_type": "display_data",
          "data": {
            "image/png": "[encoded data removed]",
            "text/plain": [
              "<Figure size 432x288 with 1 Axes>"
            ]
          },
          "metadata": {
            "tags": [],
            "needs_background": "light"
          }
        }
      ]
    },
    {
      "cell_type": "code",
      "metadata": {
        "id": "L-vBBTDDPdpS",
        "colab_type": "code",
        "colab": {
          "base_uri": "https://localhost:8080/",
          "height": 0
        },
        "outputId": "415292fe-cdea-4005-8c65-fccd96562531"
      },
      "source": [
        "plt.bar(np.arange(5), sm_2.numpy())"
      ],
      "execution_count": 43,
      "outputs": [
        {
          "output_type": "execute_result",
          "data": {
            "text/plain": [
              "<BarContainer object of 5 artists>"
            ]
          },
          "metadata": {
            "tags": []
          },
          "execution_count": 43
        },
        {
          "output_type": "display_data",
          "data": {
            "image/png": "[encoded data removed]",
            "text/plain": [
              "<Figure size 432x288 with 1 Axes>"
            ]
          },
          "metadata": {
            "tags": [],
            "needs_background": "light"
          }
        }
      ]
    },
    {
      "cell_type": "code",
      "metadata": {
        "id": "bwrz8KpKPdpU",
        "colab_type": "code",
        "colab": {
          "base_uri": "https://localhost:8080/",
          "height": 0
        },
        "outputId": "129cbe68-a44d-418c-bd35-6f8d53dac253"
      },
      "source": [
        "plt.bar(np.arange(5), sm_3.numpy())"
      ],
      "execution_count": 44,
      "outputs": [
        {
          "output_type": "execute_result",
          "data": {
            "text/plain": [
              "<BarContainer object of 5 artists>"
            ]
          },
          "metadata": {
            "tags": []
          },
          "execution_count": 44
        },
        {
          "output_type": "display_data",
          "data": {
            "image/png": "[encoded data removed]",
            "text/plain": [
              "<Figure size 432x288 with 1 Axes>"
            ]
          },
          "metadata": {
            "tags": [],
            "needs_background": "light"
          }
        }
      ]
    },
    {
      "cell_type": "markdown",
      "metadata": {
        "id": "DDdQQ6b0PdpY",
        "colab_type": "text"
      },
      "source": [
        "__Hint: Dropout actually can be applied to the features space as well.__"
      ]
    },
    {
      "cell_type": "code",
      "metadata": {
        "id": "1HqYjal2PdpZ",
        "colab_type": "code",
        "colab": {}
      },
      "source": [
        "model = nn.Sequential()\n",
        "\n",
        "model.add_module('d1', nn.Dropout(.7))\n",
        "model.add_module('l1', nn.Linear(VOCAB_SIZE, 2)) ### YOUR CODE HERE\n",
        "### YOUR CODE HERE"
      ],
      "execution_count": 45,
      "outputs": []
    },
    {
      "cell_type": "code",
      "metadata": {
        "id": "FYhD7c6tPdpb",
        "colab_type": "code",
        "colab": {
          "base_uri": "https://localhost:8080/",
          "height": 0
        },
        "outputId": "c79a8dc9-8c34-48ca-c4f0-22b88ca217b3"
      },
      "source": [
        "nn.CrossEntropyLoss()"
      ],
      "execution_count": 46,
      "outputs": [
        {
          "output_type": "execute_result",
          "data": {
            "text/plain": [
              "CrossEntropyLoss()"
            ]
          },
          "metadata": {
            "tags": []
          },
          "execution_count": 46
        }
      ]
    },
    {
      "cell_type": "markdown",
      "metadata": {
        "id": "pezEMTmuPdpf",
        "colab_type": "text"
      },
      "source": [
        "Remember what we discussed about loss functions! `nn.CrossEntropyLoss` combines both log-softmax and `NLLLoss`.\n",
        "\n",
        "__Be careful with it! Criterion `nn.CrossEntropyLoss` with still work with log-softmax output, but it won't allow you to converge to the optimum.__ Next comes small demonstration:"
      ]
    },
    {
      "cell_type": "code",
      "metadata": {
        "id": "ShMZCHdCPdpf",
        "colab_type": "code",
        "colab": {}
      },
      "source": [
        "# loss_function = nn.NLLLoss()\n",
        "loss_function = nn.CrossEntropyLoss()"
      ],
      "execution_count": 47,
      "outputs": []
    },
    {
      "cell_type": "markdown",
      "metadata": {
        "id": "7Ytaq5sfw29_",
        "colab_type": "text"
      },
      "source": [
        ""
      ]
    },
    {
      "cell_type": "code",
      "metadata": {
        "id": "0Hy-jVPNPdpi",
        "colab_type": "code",
        "colab": {}
      },
      "source": [
        "from torch import optim"
      ],
      "execution_count": 48,
      "outputs": []
    },
    {
      "cell_type": "code",
      "metadata": {
        "id": "d9wXIxocPdpl",
        "colab_type": "code",
        "colab": {}
      },
      "source": [
        "opt = optim.AdamW(model.parameters())### YOUR CODE HERE"
      ],
      "execution_count": 49,
      "outputs": []
    },
    {
      "cell_type": "code",
      "metadata": {
        "id": "-qyC_cb8Pdpo",
        "colab_type": "code",
        "colab": {}
      },
      "source": [
        "from sklearn.decomposition import PCA"
      ],
      "execution_count": 50,
      "outputs": []
    },
    {
      "cell_type": "code",
      "metadata": {
        "id": "Ug8tqhScPdpq",
        "colab_type": "code",
        "colab": {}
      },
      "source": [
        "pca = PCA()"
      ],
      "execution_count": 51,
      "outputs": []
    },
    {
      "cell_type": "code",
      "metadata": {
        "id": "9KYs9CUZPdpu",
        "colab_type": "code",
        "colab": {}
      },
      "source": [
        "X_train_bow_pca = pca.fit_transform(X_train_bow)"
      ],
      "execution_count": 52,
      "outputs": []
    },
    {
      "cell_type": "code",
      "metadata": {
        "id": "I7KiMQIoPdpy",
        "colab_type": "code",
        "colab": {}
      },
      "source": [
        ""
      ],
      "execution_count": 52,
      "outputs": []
    },
    {
      "cell_type": "code",
      "metadata": {
        "id": "u5ZAOid2Pdp1",
        "colab_type": "code",
        "colab": {}
      },
      "source": [
        "import matplotlib"
      ],
      "execution_count": 53,
      "outputs": []
    },
    {
      "cell_type": "code",
      "metadata": {
        "id": "u2y1dwMTPdp4",
        "colab_type": "code",
        "colab": {}
      },
      "source": [
        "matplotlib.rcParams.update({'font.size': 16})"
      ],
      "execution_count": 54,
      "outputs": []
    },
    {
      "cell_type": "code",
      "metadata": {
        "id": "L0GLXQ9EPdp8",
        "colab_type": "code",
        "colab": {
          "base_uri": "https://localhost:8080/",
          "height": 0
        },
        "outputId": "e6d530da-e8a6-419d-8ac6-76c916092cbc"
      },
      "source": [
        "plt.plot(np.arange(500), 1- np.cumsum(pca.explained_variance_ratio_))\n",
        "plt.xlabel('number of components')\n",
        "plt.ylabel('unexplained variance')"
      ],
      "execution_count": 55,
      "outputs": [
        {
          "output_type": "execute_result",
          "data": {
            "text/plain": [
              "Text(0, 0.5, 'unexplained variance')"
            ]
          },
          "metadata": {
            "tags": []
          },
          "execution_count": 55
        },
        {
          "output_type": "display_data",
          "data": {
            "image/png": "[encoded data removed]",
            "text/plain": [
              "<Figure size 432x288 with 1 Axes>"
            ]
          },
          "metadata": {
            "tags": [],
            "needs_background": "light"
          }
        }
      ]
    },
    {
      "cell_type": "code",
      "metadata": {
        "id": "UDTTN0GMPdp_",
        "colab_type": "code",
        "colab": {}
      },
      "source": [
        "X_test_bow_pca = pca.transform(X_test_bow)"
      ],
      "execution_count": 56,
      "outputs": []
    },
    {
      "cell_type": "code",
      "metadata": {
        "id": "vQD4vzGzPdqB",
        "colab_type": "code",
        "colab": {}
      },
      "source": [
        "X_train_bow_torch = torch.tensor(X_train_bow, dtype=torch.float32) ### YOUR CODE HERE\n",
        "X_test_bow_torch = torch.tensor(X_test_bow, dtype=torch.float32) ### YOUR CODE HERE\n",
        "\n",
        "y_train_torch = torch.tensor(y_train, dtype=torch.long) ### YOUR CODE HERE\n",
        "y_test_torch = torch.tensor(y_test, dtype=torch.long) ### YOUR CODE HERE"
      ],
      "execution_count": 57,
      "outputs": []
    },
    {
      "cell_type": "code",
      "metadata": {
        "id": "s79N555JPdqE",
        "colab_type": "code",
        "colab": {}
      },
      "source": [
        "# For PCA\n",
        "\n",
        "# X_train_bow_torch = torch.tensor(X_train_bow_pca, dtype=torch.float32) ### YOUR CODE HERE\n",
        "# X_test_bow_torch = torch.tensor(X_test_bow_pca, dtype=torch.float32) ### YOUR CODE HERE\n",
        "\n",
        "# y_train_torch = torch.tensor(y_train, dtype=torch.long) ### YOUR CODE HERE\n",
        "# y_test_torch = torch.tensor(y_test, dtype=torch.long) ### YOUR CODE HERE"
      ],
      "execution_count": 58,
      "outputs": []
    },
    {
      "cell_type": "markdown",
      "metadata": {
        "id": "eH5FaggdPdqI",
        "colab_type": "text"
      },
      "source": [
        "Let's test that everything is fine"
      ]
    },
    {
      "cell_type": "code",
      "metadata": {
        "id": "W2cx_fJXPdqI",
        "colab_type": "code",
        "colab": {}
      },
      "source": [
        "# example loss\n",
        "loss = loss_function(model(X_train_bow_torch[:3]), y_train_torch[:3])"
      ],
      "execution_count": 59,
      "outputs": []
    },
    {
      "cell_type": "code",
      "metadata": {
        "id": "HU_BSvrwPdqK",
        "colab_type": "code",
        "colab": {
          "base_uri": "https://localhost:8080/",
          "height": 0
        },
        "outputId": "d0f94447-1f5d-4b56-f182-200ac44cccfb"
      },
      "source": [
        "loss"
      ],
      "execution_count": 60,
      "outputs": [
        {
          "output_type": "execute_result",
          "data": {
            "text/plain": [
              "tensor(0.6693, grad_fn=<NllLossBackward>)"
            ]
          },
          "metadata": {
            "tags": []
          },
          "execution_count": 60
        }
      ]
    },
    {
      "cell_type": "code",
      "metadata": {
        "id": "QjcZWQyyPdqM",
        "colab_type": "code",
        "colab": {}
      },
      "source": [
        "assert type(loss.item()) == float"
      ],
      "execution_count": 61,
      "outputs": []
    },
    {
      "cell_type": "code",
      "metadata": {
        "id": "aDzGscRdPdqO",
        "colab_type": "code",
        "colab": {}
      },
      "source": [
        "lr_scheduler = ReduceLROnPlateau(opt, patience=5)"
      ],
      "execution_count": 62,
      "outputs": []
    },
    {
      "cell_type": "markdown",
      "metadata": {
        "id": "T6MmnxH5PdqR",
        "colab_type": "text"
      },
      "source": [
        "Here comes small function to train the model. In future we will take in into separate file, but for this homework it's ok to implement it here. "
      ]
    },
    {
      "cell_type": "code",
      "metadata": {
        "id": "O3_QtnhIPdqR",
        "colab_type": "code",
        "colab": {}
      },
      "source": [
        "def train_model(\n",
        "    model,\n",
        "    opt,\n",
        "    lr_scheduler,\n",
        "    X_train_torch,\n",
        "    y_train_torch,\n",
        "    X_val_torch,\n",
        "    y_val_torch,\n",
        "    n_iterations=500,\n",
        "    batch_size=32,\n",
        "    warm_start=False,\n",
        "    show_plots=True,\n",
        "    eval_every=10\n",
        "):\n",
        "    if not warm_start:\n",
        "        for name, module in model.named_children():\n",
        "            print('resetting ', name)\n",
        "            try:\n",
        "                module.reset_parameters()\n",
        "            except AttributeError as e:\n",
        "                print('Cannot reset {} module parameters: {}'.format(name, e))\n",
        "\n",
        "    train_loss_history = []\n",
        "    train_acc_history = []\n",
        "    val_loss_history = []\n",
        "    val_acc_history = []\n",
        "\n",
        "    local_train_loss_history = []\n",
        "    local_train_acc_history = []\n",
        "    for i in range(n_iterations):\n",
        "\n",
        "        # sample 256 random observations\n",
        "        ix = np.random.randint(0, len(X_train_torch), batch_size)\n",
        "        x_batch = X_train_torch[ix]\n",
        "        y_batch = y_train_torch[ix]\n",
        "\n",
        "        # predict log-probabilities or logits\n",
        "        y_predicted = model(x_batch) ### YOUR CODE\n",
        "\n",
        "        # compute loss, just like before\n",
        "        ### YOUR CODE\n",
        "\n",
        "        loss = loss_function(y_predicted, y_batch)\n",
        "\n",
        "        # compute gradients\n",
        "        ### YOUR CODE\n",
        "        \n",
        "        loss.backward()\n",
        "\n",
        "        # Adam step\n",
        "        ### YOUR CODE\n",
        "        \n",
        "        opt.step()\n",
        "\n",
        "        # clear gradients\n",
        "        ### YOUR CODE\n",
        "        \n",
        "        opt.zero_grad()\n",
        "\n",
        "\n",
        "        local_train_loss_history.append(loss.data.numpy())\n",
        "        local_train_acc_history.append(\n",
        "            accuracy_score(\n",
        "                y_batch.to('cpu').detach().numpy(),\n",
        "                y_predicted.to('cpu').detach().numpy().argmax(axis=1)\n",
        "            )\n",
        "        )\n",
        "\n",
        "        if i % eval_every == 0:\n",
        "            train_loss_history.append(np.mean(local_train_loss_history))\n",
        "            train_acc_history.append(np.mean(local_train_acc_history))\n",
        "            local_train_loss_history, local_train_acc_history = [], []\n",
        "\n",
        "            predictions_val = model(X_val_torch)\n",
        "            val_loss_history.append(loss_function(predictions_val, y_val_torch).to('cpu').detach().item())\n",
        "\n",
        "            acc_score_val = accuracy_score(y_val_torch.cpu().numpy(), predictions_val.to('cpu').detach().numpy().argmax(axis=1))\n",
        "            val_acc_history.append(acc_score_val)\n",
        "            lr_scheduler.step(train_loss_history[-1])\n",
        "\n",
        "            if show_plots:\n",
        "                display.clear_output(wait=True)\n",
        "                plot_train_process(train_loss_history, val_loss_history, train_acc_history, val_acc_history)\n",
        "    return model"
      ],
      "execution_count": 63,
      "outputs": []
    },
    {
      "cell_type": "markdown",
      "metadata": {
        "id": "4bKPRehVPdqT",
        "colab_type": "text"
      },
      "source": [
        "Let's run it on the data. Note, that here we use the `test` part of the data for validation. It's not so good idea in general, but in this task our main goal is practice."
      ]
    },
    {
      "cell_type": "code",
      "metadata": {
        "id": "E3KwNZaGPdqU",
        "colab_type": "code",
        "colab": {
          "base_uri": "https://localhost:8080/",
          "height": 0
        },
        "outputId": "afcee280-f7ac-49b3-dcc9-5851a74f096c"
      },
      "source": [
        "train_model(model, opt, lr_scheduler, X_train_bow_torch, y_train_torch, X_test_bow_torch, y_test_torch)"
      ],
      "execution_count": 64,
      "outputs": [
        {
          "output_type": "display_data",
          "data": {
            "image/png": "[encoded data removed]",
            "text/plain": [
              "<Figure size 1080x360 with 2 Axes>"
            ]
          },
          "metadata": {
            "tags": [],
            "needs_background": "light"
          }
        },
        {
          "output_type": "execute_result",
          "data": {
            "text/plain": [
              "Sequential(\n",
              "  (d1): Dropout(p=0.7, inplace=False)\n",
              "  (l1): Linear(in_features=5722, out_features=2, bias=True)\n",
              ")"
            ]
          },
          "metadata": {
            "tags": []
          },
          "execution_count": 64
        }
      ]
    },
    {
      "cell_type": "code",
      "metadata": {
        "id": "8BloQKPrPdqW",
        "colab_type": "code",
        "colab": {
          "base_uri": "https://localhost:8080/",
          "height": 0
        },
        "outputId": "af88439f-d30d-4699-8b0b-d589c4f87c19"
      },
      "source": [
        "model.eval()"
      ],
      "execution_count": 65,
      "outputs": [
        {
          "output_type": "execute_result",
          "data": {
            "text/plain": [
              "Sequential(\n",
              "  (d1): Dropout(p=0.7, inplace=False)\n",
              "  (l1): Linear(in_features=5722, out_features=2, bias=True)\n",
              ")"
            ]
          },
          "metadata": {
            "tags": []
          },
          "execution_count": 65
        }
      ]
    },
    {
      "cell_type": "code",
      "metadata": {
        "id": "k3C0kXsFPdqY",
        "colab_type": "code",
        "colab": {
          "base_uri": "https://localhost:8080/",
          "height": 0
        },
        "outputId": "972a23a8-d7b7-49e0-e8f0-f592ad3a64ea"
      },
      "source": [
        "from sklearn.metrics import roc_auc_score, roc_curve\n",
        "\n",
        "for name, X, y, model in [\n",
        "    ('train', X_train_bow_torch, y_train, model),\n",
        "    ('test ', X_test_bow_torch, y_test, model)\n",
        "]:\n",
        "    proba = model(X).detach().cpu().numpy()[:, 1]\n",
        "    auc = roc_auc_score(y, proba)\n",
        "    plt.plot(*roc_curve(y, proba)[:2], label='%s AUC=%.4f' % (name, auc))\n",
        "\n",
        "plt.plot([0, 1], [0, 1], '--', color='black',)\n",
        "plt.legend(fontsize='large')\n",
        "plt.grid()"
      ],
      "execution_count": 66,
      "outputs": [
        {
          "output_type": "display_data",
          "data": {
            "image/png": "[encoded data removed]",
            "text/plain": [
              "<Figure size 432x288 with 1 Axes>"
            ]
          },
          "metadata": {
            "tags": [],
            "needs_background": "light"
          }
        }
      ]
    },
    {
      "cell_type": "code",
      "metadata": {
        "id": "0A5RSGzEPdqa",
        "colab_type": "code",
        "colab": {
          "base_uri": "https://localhost:8080/",
          "height": 0
        },
        "outputId": "cbeed2b7-d7bb-4bf1-c234-0e7ece39712d"
      },
      "source": [
        "X_train_bow_torch.shape"
      ],
      "execution_count": 67,
      "outputs": [
        {
          "output_type": "execute_result",
          "data": {
            "text/plain": [
              "torch.Size([500, 5722])"
            ]
          },
          "metadata": {
            "tags": []
          },
          "execution_count": 67
        }
      ]
    },
    {
      "cell_type": "markdown",
      "metadata": {
        "id": "3tEfVeuGPdqe",
        "colab_type": "text"
      },
      "source": [
        "Try to vary the number of tokens `k` and check how the model performance changes. Show it on a plot."
      ]
    },
    {
      "cell_type": "code",
      "metadata": {
        "id": "V0nCnoKIPdqe",
        "colab_type": "code",
        "colab": {}
      },
      "source": [
        "# Your beautiful code here"
      ],
      "execution_count": 68,
      "outputs": []
    },
    {
      "cell_type": "markdown",
      "metadata": {
        "id": "3q-a09ymPdqg",
        "colab_type": "text"
      },
      "source": [
        "### Step 2: implement TF-IDF features\n",
        "\n",
        "Not all words are equally useful. One can prioritize rare words and downscale words like \"and\"/\"or\" by using __tf-idf features__. This abbreviation stands for __text frequency/inverse document frequence__ and means exactly that:\n",
        "\n",
        "$$ feature_i = { Count(word_i \\in x) \\times { log {N \\over Count(word_i \\in D) + \\alpha} }}, $$\n",
        "\n",
        "\n",
        "where x is a single text, D is your dataset (a collection of texts), N is a total number of documents and $\\alpha$ is a smoothing hyperparameter (typically 1). \n",
        "And $Count(word_i \\in D)$ is the number of documents where $word_i$ appears.\n",
        "\n",
        "It may also be a good idea to normalize each data sample after computing tf-idf features.\n",
        "\n",
        "__Your task:__ implement tf-idf features, train a model and evaluate ROC curve. Compare it with basic BagOfWords model from above.\n",
        "\n",
        "__Please don't use sklearn/nltk builtin tf-idf vectorizers in your solution :)__ You can still use 'em for debugging though."
      ]
    },
    {
      "cell_type": "markdown",
      "metadata": {
        "id": "iSy2r1A_Pdqh",
        "colab_type": "text"
      },
      "source": [
        "Blog post about implementing the TF-IDF features from scratch: https://triton.ml/blog/tf-idf-from-scratch"
      ]
    },
    {
      "cell_type": "code",
      "metadata": {
        "id": "8O6P7wrGPdqh",
        "colab_type": "code",
        "colab": {}
      },
      "source": [
        "# Your beautiful code here\n",
        "def get_tf(doc):\n",
        "    \"\"\" \n",
        "    return value: dict of unique words in doc with corresponding tf in the doc as values.\n",
        "    \"\"\"\n",
        "    tfDict = {}\n",
        "    for t in doc:\n",
        "        if t in tfDict:\n",
        "          tfDict[t] += 1\n",
        "        else:\n",
        "          tfDict[t] = 1\n",
        "    for t in tfDict:\n",
        "        tfDict[t] = tfDict[t] / len(doc)\n",
        "    return tfDict\n",
        "\n",
        "def get_count(tfDict):\n",
        "    \"\"\"\n",
        "    return value: dict of terms in tfDict with their counts in number of docs they appear in.\n",
        "    \"\"\"\n",
        "    countDict = {}\n",
        "    for doc in tfDict:\n",
        "        for t in doc:\n",
        "            if t in countDict:\n",
        "                countDict[t] += 1\n",
        "            else:\n",
        "                countDict[t] = 1\n",
        "    return countDict\n",
        "\n",
        "def get_idf(dataset, countDict):\n",
        "    \"\"\"\n",
        "    return value: dict of unique terms in dataset with corresponding idf as values.\n",
        "    \"\"\"\n",
        "    import math\n",
        "    idfDict = {}\n",
        "    for t in countDict:\n",
        "        idfDict[t] = math.log(len(dataset) / countDict[t])\n",
        "    return idfDict\n",
        "\n",
        "def get_tfidf(doc, idfDict):\n",
        "    \"\"\"\n",
        "    return value: dict of unique terms in doc with tfidf as values.\n",
        "    \"\"\"\n",
        "    tfIdfDict = {}\n",
        "    for t in doc:\n",
        "        tfIdfDict[t] = doc[t] * idfDict[t]\n",
        "    return tfIdfDict"
      ],
      "execution_count": 69,
      "outputs": []
    },
    {
      "cell_type": "code",
      "metadata": {
        "id": "HxyF9Hfbkvra",
        "colab_type": "code",
        "colab": {}
      },
      "source": [
        "tfDict_train = [get_tf(text.split()) for text in texts_train]\n",
        "tfDict_test = [get_tf(text.split()) for text in texts_test]\n",
        "\n",
        "tfCount_train = get_count(tfDict_train)\n",
        "tfCount_test = get_count(tfDict_test)\n",
        "\n",
        "idf_train = get_idf(texts_train, tfCount_train)\n",
        "idf_test = get_idf(texts_test, tfCount_test)\n",
        "\n",
        "tfidf_train = [get_tfidf(doc, idf_train) for doc in tfDict_train]\n",
        "tfidf_test = [get_tfidf(doc, idf_test) for doc in tfDict_test]"
      ],
      "execution_count": 70,
      "outputs": []
    },
    {
      "cell_type": "markdown",
      "metadata": {
        "id": "ModqE2owPdqj",
        "colab_type": "text"
      },
      "source": [
        "Same stuff about moel and optimizers here (or just omit it, if you are using the same model as before)."
      ]
    },
    {
      "cell_type": "code",
      "metadata": {
        "id": "PTvlPMY1Pdqk",
        "colab_type": "code",
        "colab": {}
      },
      "source": [
        "### YOUR CODE HERE\n",
        "from torch import optim\n",
        "\n",
        "model = nn.Sequential()\n",
        "\n",
        "model.add_module('d1', nn.Dropout(.7))\n",
        "model.add_module('l1', nn.Linear(VOCAB_SIZE, 2))\n",
        "\n",
        "loss_function = nn.CrossEntropyLoss()\n",
        "opt = optim.AdamW(model.parameters())\n",
        "lr_scheduler = ReduceLROnPlateau(opt, patience=5)"
      ],
      "execution_count": 71,
      "outputs": []
    },
    {
      "cell_type": "code",
      "metadata": {
        "id": "OFL718ujPdqm",
        "colab_type": "code",
        "colab": {}
      },
      "source": [
        "X_train_tfidf = np.stack(list(map(text_to_bow, tfidf_train)))\n",
        "X_test_tfidf = np.stack(list(map(text_to_bow, tfidf_test)))\n",
        "\n",
        "X_train_tfidf_torch = torch.tensor(X_train_tfidf, dtype=torch.float32)  ### YOUR CODE HERE\n",
        "X_test_tfidf_torch = torch.tensor(X_test_tfidf, dtype=torch.float32)  ### YOUR CODE HERE\n",
        "\n",
        "y_train_torch = torch.tensor(y_train, dtype=torch.long)  ### YOUR CODE HERE\n",
        "y_test_torch = torch.tensor(y_test, dtype=torch.long)  ### YOUR CODE HERE"
      ],
      "execution_count": 72,
      "outputs": []
    },
    {
      "cell_type": "code",
      "metadata": {
        "id": "k2ceIHNoyRC2",
        "colab_type": "code",
        "colab": {}
      },
      "source": [
        "loss_tfIdf = loss_function(model(X_train_tfidf_torch), y_train_torch)"
      ],
      "execution_count": 73,
      "outputs": []
    },
    {
      "cell_type": "code",
      "metadata": {
        "id": "yuLLAOAfwsuN",
        "colab_type": "code",
        "colab": {
          "base_uri": "https://localhost:8080/",
          "height": 0
        },
        "outputId": "10a08bec-f61e-4b61-baad-c5a5e559e7a2"
      },
      "source": [
        "train_model(model, opt, lr_scheduler, X_train_tfidf_torch, y_train_torch, X_test_tfidf_torch, y_test_torch)"
      ],
      "execution_count": 74,
      "outputs": [
        {
          "output_type": "display_data",
          "data": {
            "image/png": "[encoded data removed]",
            "text/plain": [
              "<Figure size 1080x360 with 2 Axes>"
            ]
          },
          "metadata": {
            "tags": [],
            "needs_background": "light"
          }
        },
        {
          "output_type": "execute_result",
          "data": {
            "text/plain": [
              "Sequential(\n",
              "  (d1): Dropout(p=0.7, inplace=False)\n",
              "  (l1): Linear(in_features=5722, out_features=2, bias=True)\n",
              ")"
            ]
          },
          "metadata": {
            "tags": []
          },
          "execution_count": 74
        }
      ]
    },
    {
      "cell_type": "code",
      "metadata": {
        "id": "dxdq_kD6zTxv",
        "colab_type": "code",
        "colab": {
          "base_uri": "https://localhost:8080/",
          "height": 0
        },
        "outputId": "e0c3c84f-4e4d-4e4d-ba1a-ffab5f1cd854"
      },
      "source": [
        "from sklearn.metrics import roc_auc_score, roc_curve\n",
        "\n",
        "for name, X, y, model in [\n",
        "    ('train', X_train_tfidf_torch, y_train, model),\n",
        "    ('test ', X_test_tfidf_torch, y_test, model)\n",
        "]:\n",
        "    proba = model(X).detach().cpu().numpy()[:, 1]\n",
        "    auc = roc_auc_score(y, proba)\n",
        "    plt.plot(*roc_curve(y, proba)[:2], label='%s AUC=%.4f' % (name, auc))\n",
        "\n",
        "plt.plot([0, 1], [0, 1], '--', color='black',)\n",
        "plt.legend(fontsize='large')\n",
        "plt.grid()"
      ],
      "execution_count": 75,
      "outputs": [
        {
          "output_type": "display_data",
          "data": {
            "image/png": "[encoded data removed]",
            "text/plain": [
              "<Figure size 432x288 with 1 Axes>"
            ]
          },
          "metadata": {
            "tags": [],
            "needs_background": "light"
          }
        }
      ]
    },
    {
      "cell_type": "markdown",
      "metadata": {
        "id": "ghLy8pyBPdqo",
        "colab_type": "text"
      },
      "source": [
        "Fit your model to the data. No not hesitate to vary number of iterations, learning rate and so on.\n",
        "\n",
        "_Note: due to very small dataset, increasing the complexity of the network might not be the best idea._"
      ]
    },
    {
      "cell_type": "markdown",
      "metadata": {
        "id": "e3ejTGD3Pdqo",
        "colab_type": "text"
      },
      "source": [
        "### Step 3: Comparing it with Naive Bayes\n",
        "\n",
        "Naive Bayes classifier is a good choice for such small problems. Try to tune it for both BOW and TF-iDF features. Compare the results with Logistic Regression."
      ]
    },
    {
      "cell_type": "code",
      "metadata": {
        "id": "INS4HPiqPdqo",
        "colab_type": "code",
        "colab": {
          "base_uri": "https://localhost:8080/",
          "height": 51
        },
        "outputId": "7bd226ff-e3a9-4d6b-b2f0-9a25250b064e"
      },
      "source": [
        "# Your beautiful code here\n",
        "from sklearn import naive_bayes\n",
        "\n",
        "nb_tfidf = naive_bayes.MultinomialNB()\n",
        "nb_tfidf.fit(X_train_tfidf, y_train)\n",
        "nb_tfidf_pred = nb_tfidf.predict(X_test_tfidf)\n",
        "\n",
        "nb_bow = naive_bayes.MultinomialNB()\n",
        "nb_bow.fit(X_train_bow, y_train)\n",
        "nb_bow_pred = nb_bow.predict(X_test_bow)\n",
        "\n",
        "print(\"Naive BAYES ROC AUC score on TFIDF is: \", roc_auc_score(y_test, nb_tfidf_pred))\n",
        "print(\"Naive BAYES ROC AUC score on BOW is: \", roc_auc_score(y_test, nb_bow_pred))"
      ],
      "execution_count": 76,
      "outputs": [
        {
          "output_type": "stream",
          "text": [
            "Naive BAYES ROC AUC score on TFIDF is:  0.8031188142712307\n",
            "Naive BAYES ROC AUC score on BOW is:  0.8031188142712307\n"
          ],
          "name": "stdout"
        }
      ]
    },
    {
      "cell_type": "code",
      "metadata": {
        "id": "Vuf6z7tQNhbK",
        "colab_type": "code",
        "colab": {
          "base_uri": "https://localhost:8080/",
          "height": 51
        },
        "outputId": "4048e7fb-8ba9-41ea-8146-1794d358d392"
      },
      "source": [
        "from sklearn.linear_model import LinearRegression\n",
        "\n",
        "lr_tfidf = LogisticRegression()\n",
        "lr_tfidf.fit(X_train_tfidf, y_train)\n",
        "lr_tfidf_pred = lr_tfidf.predict(X_test_tfidf)\n",
        "\n",
        "lr_bow = LogisticRegression()\n",
        "lr_bow.fit(X_train_bow, y_train)\n",
        "lr_bow_pred = lr_bow.predict(X_test_bow)\n",
        "\n",
        "print(\"Logistic Regression ROC AUC score on TFIDF is: \", roc_auc_score(y_test, lr_tfidf_pred))\n",
        "print(\"Logistic Regression ROC AUC score on BOW is: \", roc_auc_score(y_test, lr_bow_pred))"
      ],
      "execution_count": 77,
      "outputs": [
        {
          "output_type": "stream",
          "text": [
            "Logistic Regression ROC AUC score on TFIDF is:  0.7839440608957338\n",
            "Logistic Regression ROC AUC score on BOW is:  0.7839440608957338\n"
          ],
          "name": "stdout"
        }
      ]
    },
    {
      "cell_type": "markdown",
      "metadata": {
        "id": "mE_leEdXPdqq",
        "colab_type": "text"
      },
      "source": [
        "Shape some thoughts on the results you aquired. Which model has show the best performance? Did changing the learning rate/lr scheduler help?"
      ]
    },
    {
      "cell_type": "markdown",
      "metadata": {
        "id": "O0ArqROnPdqq",
        "colab_type": "text"
      },
      "source": [
        "_Your beautiful thoughts here_"
      ]
    },
    {
      "cell_type": "markdown",
      "metadata": {
        "id": "vjbbhI2YPdqr",
        "colab_type": "text"
      },
      "source": [
        "### Step 4: Using the external knowledge.\n",
        "\n",
        "Use the `gensim` word2vec pretrained model to translate words into vectors. Use several models with this new encoding technique. Compare the results, share your thoughts."
      ]
    },
    {
      "cell_type": "code",
      "metadata": {
        "id": "H3Hky93r_OeB",
        "colab_type": "code",
        "colab": {}
      },
      "source": [
        "tokenizer = TweetTokenizer()\n",
        "train_tokens = [tokenizer.tokenize(line.lower()) for line in texts_train]\n",
        "test_tokens = [tokenizer.tokenize(line.lower()) for line in texts_test]"
      ],
      "execution_count": 78,
      "outputs": []
    },
    {
      "cell_type": "code",
      "metadata": {
        "id": "ldZjpDhjPdqr",
        "colab_type": "code",
        "colab": {}
      },
      "source": [
        "# Your beautiful code here\n",
        "from gensim.models import Word2Vec\n",
        "import spacy\n",
        "\n",
        "word2vec = Word2Vec(\n",
        "    train_tokens,\n",
        "    sg=1,  # skip-gram\n",
        "    hs=0,  # negative sampling\n",
        "    size=32,\n",
        "    window=5,  # context is a 5-word window around the target word\n",
        "    alpha=0.01,\n",
        "    min_count=5  # ignore words that occur less than 5 times\n",
        ").wv"
      ],
      "execution_count": 79,
      "outputs": []
    },
    {
      "cell_type": "code",
      "metadata": {
        "id": "t8Ae5LJ-88TL",
        "colab_type": "code",
        "colab": {}
      },
      "source": [
        "def document_vector(word2vec_model, doc):\n",
        "    # remove out-of-vocabulary words\n",
        "    doc = [word for word in doc if word in word2vec_model.vocab]\n",
        "    return np.mean(word2vec_model[doc], axis=0)"
      ],
      "execution_count": 80,
      "outputs": []
    },
    {
      "cell_type": "code",
      "metadata": {
        "id": "cdyZ7hqu8_L-",
        "colab_type": "code",
        "colab": {
          "base_uri": "https://localhost:8080/",
          "height": 34
        },
        "outputId": "1c012e84-7337-41a7-c5b4-6ee6b10047f4"
      },
      "source": [
        "train_doc_vector = []\n",
        "test_doc_vector = []\n",
        "for text in texts_train:\n",
        "    train_doc_vector.append(document_vector(word2vec, text))\n",
        "train_doc_vector = np.array(train_doc_vector)\n",
        "\n",
        "for text in texts_test:\n",
        "  test_doc_vector.append(document_vector(word2vec, text))\n",
        "test_doc_vector = np.array(test_doc_vector)\n",
        "\n",
        "train_doc_vector.shape, test_doc_vector.shape"
      ],
      "execution_count": 86,
      "outputs": [
        {
          "output_type": "execute_result",
          "data": {
            "text/plain": [
              "((500, 32), (500, 32))"
            ]
          },
          "metadata": {
            "tags": []
          },
          "execution_count": 86
        }
      ]
    },
    {
      "cell_type": "code",
      "metadata": {
        "id": "-I9vTXY_96C7",
        "colab_type": "code",
        "colab": {
          "base_uri": "https://localhost:8080/",
          "height": 51
        },
        "outputId": "c5123faf-05af-42c7-f7e0-540bdce17818"
      },
      "source": [
        "nb_wv = naive_bayes.GaussianNB()\n",
        "nb_wv.fit(train_doc_vector, y_train)\n",
        "nb_wv_pred = nb_wv.predict(test_doc_vector)\n",
        "\n",
        "lr_wv = LogisticRegression()\n",
        "lr_wv.fit(train_doc_vector, y_train)\n",
        "lr_wv_pred = lr_wv.predict(test_doc_vector)\n",
        "\n",
        "print(\"Naive BAYES ROC AUC score on Word2Vec Model is: \", roc_auc_score(y_test, nb_wv_pred))\n",
        "print(\"Logistic Regression ROC AUC score on Word2Vec Model is: \", roc_auc_score(y_test, lr_wv_pred))"
      ],
      "execution_count": 88,
      "outputs": [
        {
          "output_type": "stream",
          "text": [
            "Naive BAYES ROC AUC score on Word2Vec Model is:  0.5918344357006068\n",
            "Logistic Regression ROC AUC score on Word2Vec Model is:  0.6014097426736831\n"
          ],
          "name": "stdout"
        }
      ]
    },
    {
      "cell_type": "code",
      "metadata": {
        "id": "ObMqTeUIASHL",
        "colab_type": "code",
        "colab": {
          "base_uri": "https://localhost:8080/",
          "height": 34
        },
        "outputId": "039e120b-aa3e-4f10-f19a-75c93bc4522c"
      },
      "source": [
        "words = sorted(word2vec.vocab.keys(), \n",
        "               key=lambda word: word2vec.vocab[word].count,\n",
        "               reverse=True)\n",
        "\n",
        "print(words[::100])"
      ],
      "execution_count": 84,
      "outputs": [
        {
          "output_type": "stream",
          "text": [
            "['.', 'also', 'keep', 'point', 'though', 'means', 'clear', 'standard', 'small']\n"
          ],
          "name": "stdout"
        }
      ]
    },
    {
      "cell_type": "code",
      "metadata": {
        "id": "Tqbe6z1Umx5t",
        "colab_type": "code",
        "colab": {}
      },
      "source": [
        "word_vectors = np.asarray([word2vec[word] for word in words])"
      ],
      "execution_count": 85,
      "outputs": []
    },
    {
      "cell_type": "markdown",
      "metadata": {
        "id": "yx35rjRjPdqt",
        "colab_type": "text"
      },
      "source": [
        "### Step 5: Visualizing the embeddings\n",
        "\n",
        "Finally, let's visualize the embeddings for every comment. One can use just averaged vector or use some more complex models. We recommend using `umap` (`pip install umap-learn`) to map everything to 2-dimensional space. For inspiration one might refer to the [day 14](https://github.com/neychev/harbour_ml2020/tree/master/day14_Unsupervised_learning) practice of the Machine Learning course."
      ]
    },
    {
      "cell_type": "code",
      "metadata": {
        "id": "8o00_UngPdqu",
        "colab_type": "code",
        "colab": {}
      },
      "source": [
        "# Your beautiful code here\n",
        "import bokeh.models as bm, bokeh.plotting as pl\n",
        "from bokeh.io import output_notebook\n",
        "output_notebook()\n",
        "\n",
        "def draw_vectors(x, y, radius=10, alpha=0.25, color='blue',\n",
        "                 width=600, height=400, show=True, **kwargs):\n",
        "    \"\"\" draws an interactive plot for data points with auxilirary info on hover \"\"\"\n",
        "    if isinstance(color, str): color = [color] * len(x)\n",
        "    data_source = bm.ColumnDataSource({ 'x' : x, 'y' : y, 'color': color, **kwargs })\n",
        "\n",
        "    fig = pl.figure(active_scroll='wheel_zoom', width=width, height=height)\n",
        "    fig.scatter('x', 'y', size=radius, color='color', alpha=alpha, source=data_source)\n",
        "\n",
        "    fig.add_tools(bm.HoverTool(tooltips=[(key, \"@\" + key) for key in kwargs.keys()]))\n",
        "    if show: pl.show(fig)\n",
        "    return fig"
      ],
      "execution_count": null,
      "outputs": []
    },
    {
      "cell_type": "code",
      "metadata": {
        "id": "UzWs3SHALtO9",
        "colab_type": "code",
        "colab": {}
      },
      "source": [
        "import umap\n",
        "\n",
        "embedding = umap.UMAP(n_neighbors=5).fit_transform(word_vectors)"
      ],
      "execution_count": null,
      "outputs": []
    },
    {
      "cell_type": "code",
      "metadata": {
        "id": "YoYdPYZhL2du",
        "colab_type": "code",
        "colab": {}
      },
      "source": [
        "draw_vectors(embedding[:, 0], embedding[:, 1], token=words)"
      ],
      "execution_count": null,
      "outputs": []
    }
  ]
}